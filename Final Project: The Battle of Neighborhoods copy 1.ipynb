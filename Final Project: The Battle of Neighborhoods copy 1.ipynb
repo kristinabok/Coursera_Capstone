{
    "cells": [
        {
            "cell_type": "markdown",
            "metadata": {},
            "source": "# Final Project: The Battle of Neighborhoods\n# Best Location for Bookstores near Swiss Universities"
        },
        {
            "cell_type": "markdown",
            "metadata": {},
            "source": "##  Introduction"
        },
        {
            "cell_type": "markdown",
            "metadata": {},
            "source": "### Background Information"
        },
        {
            "cell_type": "markdown",
            "metadata": {},
            "source": "Swiss Universities are one of the world\u2019s leading universities in the world, which are located quite high up in the rankings. They gather not just Swiss people but also many international students. They are conducting various research that are discussed worldwide. \nStudents can be a great target group for many businesses. For example, students need books and other stationaries, therefore, the area near Swiss Universities can be opportunistic for bookstores.\n"
        },
        {
            "cell_type": "markdown",
            "metadata": {},
            "source": "### Problem"
        },
        {
            "cell_type": "markdown",
            "metadata": {},
            "source": "Bookstore owners need to understand whether opportunities for bookstores exist near Swiss Universities. Therefore, an analysis needs to be conducted which examines the venues near Swiss Universities. This will help to determine if there are already other bookstores, competitors, at those locations, and whether bookstores are popular among students nowadays. This project is aimed at finding business opportunities for bookstores near Swiss Universities."
        },
        {
            "cell_type": "markdown",
            "metadata": {},
            "source": "### Interest"
        },
        {
            "cell_type": "markdown",
            "metadata": {},
            "source": "Living in Switzerland, recently being a student myself, I have noticed that there are not many bookstores near universities. I got interested in whether there is a perspective for this kind of business at such locations as universities."
        },
        {
            "cell_type": "markdown",
            "metadata": {},
            "source": "## Data"
        },
        {
            "cell_type": "markdown",
            "metadata": {},
            "source": "We need to have a list of Swiss Universties and their geographical coordinates to be able to examine the venues near them. "
        },
        {
            "cell_type": "markdown",
            "metadata": {},
            "source": "### Prepare Data"
        },
        {
            "cell_type": "markdown",
            "metadata": {},
            "source": "First of all, we need to find a list of Swiss Universities. There is a wikipedia page that provides such a list. Here is the link: https://en.wikipedia.org/wiki/List_of_universities_in_Switzerland. We need to scrape this Wikipedia page."
        },
        {
            "cell_type": "code",
            "execution_count": 1,
            "metadata": {},
            "outputs": [
                {
                    "data": {
                        "text/html": "<div>\n<style scoped>\n    .dataframe tbody tr th:only-of-type {\n        vertical-align: middle;\n    }\n\n    .dataframe tbody tr th {\n        vertical-align: top;\n    }\n\n    .dataframe thead th {\n        text-align: right;\n    }\n</style>\n<table border=\"1\" class=\"dataframe\">\n  <thead>\n    <tr style=\"text-align: right;\">\n      <th></th>\n      <th>Institution</th>\n      <th>Abbreviation</th>\n      <th>Location</th>\n      <th>Founded</th>\n      <th>Language</th>\n      <th>Type</th>\n      <th>Enrollment</th>\n    </tr>\n  </thead>\n  <tbody>\n    <tr>\n      <th>0</th>\n      <td>University of Basel</td>\n      <td>UNIBAS</td>\n      <td>Basel</td>\n      <td>1460</td>\n      <td>German / English</td>\n      <td>Public (cantonal)</td>\n      <td>12852</td>\n    </tr>\n    <tr>\n      <th>1</th>\n      <td>University of Bern</td>\n      <td>UNIBE</td>\n      <td>Bern</td>\n      <td>1834</td>\n      <td>German / English</td>\n      <td>Public (cantonal)</td>\n      <td>17882</td>\n    </tr>\n    <tr>\n      <th>2</th>\n      <td>University of Fribourg</td>\n      <td>UNIFR</td>\n      <td>Fribourg</td>\n      <td>1889</td>\n      <td>French / German</td>\n      <td>Public (cantonal)</td>\n      <td>10000</td>\n    </tr>\n    <tr>\n      <th>3</th>\n      <td>University of Geneva</td>\n      <td>UNIGE</td>\n      <td>Geneva</td>\n      <td>1559</td>\n      <td>French</td>\n      <td>Public (cantonal)</td>\n      <td>16530</td>\n    </tr>\n    <tr>\n      <th>4</th>\n      <td>University of Neuch\u00e2tel</td>\n      <td>UNINE</td>\n      <td>Neuch\u00e2tel</td>\n      <td>1838</td>\n      <td>French</td>\n      <td>Public (cantonal)</td>\n      <td>4173</td>\n    </tr>\n    <tr>\n      <th>5</th>\n      <td>University of Lausanne</td>\n      <td>UNIL</td>\n      <td>Lausanne</td>\n      <td>1537</td>\n      <td>French</td>\n      <td>Public (cantonal)</td>\n      <td>13500</td>\n    </tr>\n    <tr>\n      <th>6</th>\n      <td>University of Lucerne</td>\n      <td>UNILU</td>\n      <td>Lucerne</td>\n      <td>2000</td>\n      <td>German / English</td>\n      <td>Public (cantonal)</td>\n      <td>3037</td>\n    </tr>\n    <tr>\n      <th>7</th>\n      <td>University of Lugano</td>\n      <td>USI</td>\n      <td>Lugano</td>\n      <td>1995</td>\n      <td>Italian / English</td>\n      <td>Public (cantonal)</td>\n      <td>2862</td>\n    </tr>\n    <tr>\n      <th>8</th>\n      <td>University of St. Gallen</td>\n      <td>HSG</td>\n      <td>St. Gallen</td>\n      <td>1898</td>\n      <td>German / English</td>\n      <td>Public (cantonal)</td>\n      <td>8553</td>\n    </tr>\n    <tr>\n      <th>9</th>\n      <td>University of Zurich</td>\n      <td>UZH</td>\n      <td>Zurich</td>\n      <td>1833</td>\n      <td>German / English</td>\n      <td>Public (cantonal)</td>\n      <td>26356</td>\n    </tr>\n    <tr>\n      <th>10</th>\n      <td>Swiss Federal Institute of Technology Lausanne</td>\n      <td>EPFL</td>\n      <td>Lausanne</td>\n      <td>1853</td>\n      <td>French / English</td>\n      <td>Public (federal)</td>\n      <td>10686</td>\n    </tr>\n    <tr>\n      <th>11</th>\n      <td>Swiss Federal Institute of Technology Zurich</td>\n      <td>ETH / ETHZ</td>\n      <td>Zurich</td>\n      <td>1855</td>\n      <td>German / English</td>\n      <td>Public (federal)</td>\n      <td>20607</td>\n    </tr>\n  </tbody>\n</table>\n</div>",
                        "text/plain": "                                       Institution Abbreviation    Location  \\\n0                              University of Basel       UNIBAS       Basel   \n1                               University of Bern        UNIBE        Bern   \n2                           University of Fribourg        UNIFR    Fribourg   \n3                             University of Geneva        UNIGE      Geneva   \n4                          University of Neuch\u00e2tel        UNINE   Neuch\u00e2tel   \n5                           University of Lausanne         UNIL    Lausanne   \n6                            University of Lucerne        UNILU     Lucerne   \n7                             University of Lugano          USI      Lugano   \n8                         University of St. Gallen          HSG  St. Gallen   \n9                             University of Zurich          UZH      Zurich   \n10  Swiss Federal Institute of Technology Lausanne         EPFL    Lausanne   \n11    Swiss Federal Institute of Technology Zurich   ETH / ETHZ      Zurich   \n\n    Founded           Language               Type  Enrollment  \n0      1460   German / English  Public (cantonal)       12852  \n1      1834   German / English  Public (cantonal)       17882  \n2      1889    French / German  Public (cantonal)       10000  \n3      1559             French  Public (cantonal)       16530  \n4      1838             French  Public (cantonal)        4173  \n5      1537             French  Public (cantonal)       13500  \n6      2000   German / English  Public (cantonal)        3037  \n7      1995  Italian / English  Public (cantonal)        2862  \n8      1898   German / English  Public (cantonal)        8553  \n9      1833   German / English  Public (cantonal)       26356  \n10     1853   French / English   Public (federal)       10686  \n11     1855   German / English   Public (federal)       20607  "
                    },
                    "execution_count": 1,
                    "metadata": {},
                    "output_type": "execute_result"
                }
            ],
            "source": "# Load Pandas\n\nimport pandas as pd\n\n# Webpage URL                                                                                                               \nurl = \"https://en.wikipedia.org/wiki/List_of_universities_in_Switzerland\"\n\n# Extract tables\ndf = pd.read_html(url)\n\n# Get the needed table                                                                                                           \ndf1 = df[1]\n\ndf1"
        },
        {
            "cell_type": "markdown",
            "metadata": {},
            "source": "Some data from this list is not needed, therefore, we delete columns \"\"Founded\",\"Language\",\"Type\",\"Enrollment\"."
        },
        {
            "cell_type": "code",
            "execution_count": 2,
            "metadata": {},
            "outputs": [
                {
                    "data": {
                        "text/html": "<div>\n<style scoped>\n    .dataframe tbody tr th:only-of-type {\n        vertical-align: middle;\n    }\n\n    .dataframe tbody tr th {\n        vertical-align: top;\n    }\n\n    .dataframe thead th {\n        text-align: right;\n    }\n</style>\n<table border=\"1\" class=\"dataframe\">\n  <thead>\n    <tr style=\"text-align: right;\">\n      <th></th>\n      <th>Institution</th>\n      <th>Abbreviation</th>\n      <th>Location</th>\n    </tr>\n  </thead>\n  <tbody>\n    <tr>\n      <th>0</th>\n      <td>University of Basel</td>\n      <td>UNIBAS</td>\n      <td>Basel</td>\n    </tr>\n    <tr>\n      <th>1</th>\n      <td>University of Bern</td>\n      <td>UNIBE</td>\n      <td>Bern</td>\n    </tr>\n    <tr>\n      <th>2</th>\n      <td>University of Fribourg</td>\n      <td>UNIFR</td>\n      <td>Fribourg</td>\n    </tr>\n    <tr>\n      <th>3</th>\n      <td>University of Geneva</td>\n      <td>UNIGE</td>\n      <td>Geneva</td>\n    </tr>\n    <tr>\n      <th>4</th>\n      <td>University of Neuch\u00e2tel</td>\n      <td>UNINE</td>\n      <td>Neuch\u00e2tel</td>\n    </tr>\n    <tr>\n      <th>5</th>\n      <td>University of Lausanne</td>\n      <td>UNIL</td>\n      <td>Lausanne</td>\n    </tr>\n    <tr>\n      <th>6</th>\n      <td>University of Lucerne</td>\n      <td>UNILU</td>\n      <td>Lucerne</td>\n    </tr>\n    <tr>\n      <th>7</th>\n      <td>University of Lugano</td>\n      <td>USI</td>\n      <td>Lugano</td>\n    </tr>\n    <tr>\n      <th>8</th>\n      <td>University of St. Gallen</td>\n      <td>HSG</td>\n      <td>St. Gallen</td>\n    </tr>\n    <tr>\n      <th>9</th>\n      <td>University of Zurich</td>\n      <td>UZH</td>\n      <td>Zurich</td>\n    </tr>\n    <tr>\n      <th>10</th>\n      <td>Swiss Federal Institute of Technology Lausanne</td>\n      <td>EPFL</td>\n      <td>Lausanne</td>\n    </tr>\n    <tr>\n      <th>11</th>\n      <td>Swiss Federal Institute of Technology Zurich</td>\n      <td>ETH / ETHZ</td>\n      <td>Zurich</td>\n    </tr>\n  </tbody>\n</table>\n</div>",
                        "text/plain": "                                       Institution Abbreviation    Location\n0                              University of Basel       UNIBAS       Basel\n1                               University of Bern        UNIBE        Bern\n2                           University of Fribourg        UNIFR    Fribourg\n3                             University of Geneva        UNIGE      Geneva\n4                          University of Neuch\u00e2tel        UNINE   Neuch\u00e2tel\n5                           University of Lausanne         UNIL    Lausanne\n6                            University of Lucerne        UNILU     Lucerne\n7                             University of Lugano          USI      Lugano\n8                         University of St. Gallen          HSG  St. Gallen\n9                             University of Zurich          UZH      Zurich\n10  Swiss Federal Institute of Technology Lausanne         EPFL    Lausanne\n11    Swiss Federal Institute of Technology Zurich   ETH / ETHZ      Zurich"
                    },
                    "execution_count": 2,
                    "metadata": {},
                    "output_type": "execute_result"
                }
            ],
            "source": "# Drop the columns\ndf2=df1.drop(columns=[\"Founded\",\"Language\",\"Type\",\"Enrollment\"])\ndf2"
        },
        {
            "cell_type": "markdown",
            "metadata": {},
            "source": "We need to find geographical coordinates of Swiss Univerasities. This job is done manually. The data is found on Wikipedia one by one because the data set is small."
        },
        {
            "cell_type": "code",
            "execution_count": 3,
            "metadata": {},
            "outputs": [
                {
                    "data": {
                        "text/html": "<div>\n<style scoped>\n    .dataframe tbody tr th:only-of-type {\n        vertical-align: middle;\n    }\n\n    .dataframe tbody tr th {\n        vertical-align: top;\n    }\n\n    .dataframe thead th {\n        text-align: right;\n    }\n</style>\n<table border=\"1\" class=\"dataframe\">\n  <thead>\n    <tr style=\"text-align: right;\">\n      <th></th>\n      <th>Institution</th>\n      <th>Abbreviation</th>\n      <th>Location</th>\n      <th>Latitude</th>\n      <th>Longitude</th>\n    </tr>\n  </thead>\n  <tbody>\n    <tr>\n      <th>0</th>\n      <td>University of Basel</td>\n      <td>UNIBAS</td>\n      <td>Basel</td>\n      <td>47.558600</td>\n      <td>7.583600</td>\n    </tr>\n    <tr>\n      <th>1</th>\n      <td>University of Bern</td>\n      <td>UNIBE</td>\n      <td>Bern</td>\n      <td>46.950519</td>\n      <td>7.438109</td>\n    </tr>\n    <tr>\n      <th>2</th>\n      <td>University of Fribourg</td>\n      <td>UNIFR</td>\n      <td>Fribourg</td>\n      <td>46.806250</td>\n      <td>7.151740</td>\n    </tr>\n    <tr>\n      <th>3</th>\n      <td>University of Geneva</td>\n      <td>UNIGE</td>\n      <td>Geneva</td>\n      <td>46.199496</td>\n      <td>6.145142</td>\n    </tr>\n    <tr>\n      <th>4</th>\n      <td>University of Neuch\u00e2tel</td>\n      <td>UNINE</td>\n      <td>Neuch\u00e2tel</td>\n      <td>46.993730</td>\n      <td>6.938547</td>\n    </tr>\n    <tr>\n      <th>5</th>\n      <td>University of Lausanne</td>\n      <td>UNIL</td>\n      <td>Lausanne</td>\n      <td>46.521075</td>\n      <td>6.580322</td>\n    </tr>\n    <tr>\n      <th>6</th>\n      <td>University of Lucerne</td>\n      <td>UNILU</td>\n      <td>Lucerne</td>\n      <td>47.049444</td>\n      <td>8.312222</td>\n    </tr>\n    <tr>\n      <th>7</th>\n      <td>University of Lugano</td>\n      <td>USI</td>\n      <td>Lugano</td>\n      <td>46.011000</td>\n      <td>8.958000</td>\n    </tr>\n    <tr>\n      <th>8</th>\n      <td>University of St. Gallen</td>\n      <td>HSG</td>\n      <td>St. Gallen</td>\n      <td>47.431667</td>\n      <td>9.374722</td>\n    </tr>\n    <tr>\n      <th>9</th>\n      <td>University of Zurich</td>\n      <td>UZH</td>\n      <td>Zurich</td>\n      <td>47.374593</td>\n      <td>8.548889</td>\n    </tr>\n    <tr>\n      <th>10</th>\n      <td>Swiss Federal Institute of Technology Lausanne</td>\n      <td>EPFL</td>\n      <td>Lausanne</td>\n      <td>46.519174</td>\n      <td>6.566653</td>\n    </tr>\n    <tr>\n      <th>11</th>\n      <td>Swiss Federal Institute of Technology Zurich</td>\n      <td>ETH / ETHZ</td>\n      <td>Zurich</td>\n      <td>47.376402</td>\n      <td>8.548025</td>\n    </tr>\n  </tbody>\n</table>\n</div>",
                        "text/plain": "                                       Institution Abbreviation    Location  \\\n0                              University of Basel       UNIBAS       Basel   \n1                               University of Bern        UNIBE        Bern   \n2                           University of Fribourg        UNIFR    Fribourg   \n3                             University of Geneva        UNIGE      Geneva   \n4                          University of Neuch\u00e2tel        UNINE   Neuch\u00e2tel   \n5                           University of Lausanne         UNIL    Lausanne   \n6                            University of Lucerne        UNILU     Lucerne   \n7                             University of Lugano          USI      Lugano   \n8                         University of St. Gallen          HSG  St. Gallen   \n9                             University of Zurich          UZH      Zurich   \n10  Swiss Federal Institute of Technology Lausanne         EPFL    Lausanne   \n11    Swiss Federal Institute of Technology Zurich   ETH / ETHZ      Zurich   \n\n     Latitude  Longitude  \n0   47.558600   7.583600  \n1   46.950519   7.438109  \n2   46.806250   7.151740  \n3   46.199496   6.145142  \n4   46.993730   6.938547  \n5   46.521075   6.580322  \n6   47.049444   8.312222  \n7   46.011000   8.958000  \n8   47.431667   9.374722  \n9   47.374593   8.548889  \n10  46.519174   6.566653  \n11  47.376402   8.548025  "
                    },
                    "execution_count": 3,
                    "metadata": {},
                    "output_type": "execute_result"
                }
            ],
            "source": "# Add data to the dataframe\n\nLatitude= [47.5586,\n46.950519,\n46.80625,\n46.199496,\n46.99373,\n46.521075,\n47.049444,\n46.011,\n47.431667,\n47.374593,\n46.519174,\n47.376402]\n\ndf2[\"Latitude\"]= Latitude\n\nLongitude=[7.5836,\n7.438109,\n7.15174,\n6.145142,\n6.938547,\n6.580322,\n8.312222,\n8.958,\n9.374722,\n8.548889,\n6.566653,\n8.548025,\n]\n\ndf2[\"Longitude\"]=Longitude\n\ndf2"
        },
        {
            "cell_type": "markdown",
            "metadata": {},
            "source": "For convinience, I rename column names."
        },
        {
            "cell_type": "code",
            "execution_count": 4,
            "metadata": {},
            "outputs": [
                {
                    "data": {
                        "text/html": "<div>\n<style scoped>\n    .dataframe tbody tr th:only-of-type {\n        vertical-align: middle;\n    }\n\n    .dataframe tbody tr th {\n        vertical-align: top;\n    }\n\n    .dataframe thead th {\n        text-align: right;\n    }\n</style>\n<table border=\"1\" class=\"dataframe\">\n  <thead>\n    <tr style=\"text-align: right;\">\n      <th></th>\n      <th>Neighborhood</th>\n      <th>Abbreviation</th>\n      <th>Borough</th>\n      <th>Latitude</th>\n      <th>Longitude</th>\n    </tr>\n  </thead>\n  <tbody>\n    <tr>\n      <th>0</th>\n      <td>University of Basel</td>\n      <td>UNIBAS</td>\n      <td>Basel</td>\n      <td>47.558600</td>\n      <td>7.583600</td>\n    </tr>\n    <tr>\n      <th>1</th>\n      <td>University of Bern</td>\n      <td>UNIBE</td>\n      <td>Bern</td>\n      <td>46.950519</td>\n      <td>7.438109</td>\n    </tr>\n    <tr>\n      <th>2</th>\n      <td>University of Fribourg</td>\n      <td>UNIFR</td>\n      <td>Fribourg</td>\n      <td>46.806250</td>\n      <td>7.151740</td>\n    </tr>\n    <tr>\n      <th>3</th>\n      <td>University of Geneva</td>\n      <td>UNIGE</td>\n      <td>Geneva</td>\n      <td>46.199496</td>\n      <td>6.145142</td>\n    </tr>\n    <tr>\n      <th>4</th>\n      <td>University of Neuch\u00e2tel</td>\n      <td>UNINE</td>\n      <td>Neuch\u00e2tel</td>\n      <td>46.993730</td>\n      <td>6.938547</td>\n    </tr>\n    <tr>\n      <th>5</th>\n      <td>University of Lausanne</td>\n      <td>UNIL</td>\n      <td>Lausanne</td>\n      <td>46.521075</td>\n      <td>6.580322</td>\n    </tr>\n    <tr>\n      <th>6</th>\n      <td>University of Lucerne</td>\n      <td>UNILU</td>\n      <td>Lucerne</td>\n      <td>47.049444</td>\n      <td>8.312222</td>\n    </tr>\n    <tr>\n      <th>7</th>\n      <td>University of Lugano</td>\n      <td>USI</td>\n      <td>Lugano</td>\n      <td>46.011000</td>\n      <td>8.958000</td>\n    </tr>\n    <tr>\n      <th>8</th>\n      <td>University of St. Gallen</td>\n      <td>HSG</td>\n      <td>St. Gallen</td>\n      <td>47.431667</td>\n      <td>9.374722</td>\n    </tr>\n    <tr>\n      <th>9</th>\n      <td>University of Zurich</td>\n      <td>UZH</td>\n      <td>Zurich</td>\n      <td>47.374593</td>\n      <td>8.548889</td>\n    </tr>\n    <tr>\n      <th>10</th>\n      <td>Swiss Federal Institute of Technology Lausanne</td>\n      <td>EPFL</td>\n      <td>Lausanne</td>\n      <td>46.519174</td>\n      <td>6.566653</td>\n    </tr>\n    <tr>\n      <th>11</th>\n      <td>Swiss Federal Institute of Technology Zurich</td>\n      <td>ETH / ETHZ</td>\n      <td>Zurich</td>\n      <td>47.376402</td>\n      <td>8.548025</td>\n    </tr>\n  </tbody>\n</table>\n</div>",
                        "text/plain": "                                      Neighborhood Abbreviation     Borough  \\\n0                              University of Basel       UNIBAS       Basel   \n1                               University of Bern        UNIBE        Bern   \n2                           University of Fribourg        UNIFR    Fribourg   \n3                             University of Geneva        UNIGE      Geneva   \n4                          University of Neuch\u00e2tel        UNINE   Neuch\u00e2tel   \n5                           University of Lausanne         UNIL    Lausanne   \n6                            University of Lucerne        UNILU     Lucerne   \n7                             University of Lugano          USI      Lugano   \n8                         University of St. Gallen          HSG  St. Gallen   \n9                             University of Zurich          UZH      Zurich   \n10  Swiss Federal Institute of Technology Lausanne         EPFL    Lausanne   \n11    Swiss Federal Institute of Technology Zurich   ETH / ETHZ      Zurich   \n\n     Latitude  Longitude  \n0   47.558600   7.583600  \n1   46.950519   7.438109  \n2   46.806250   7.151740  \n3   46.199496   6.145142  \n4   46.993730   6.938547  \n5   46.521075   6.580322  \n6   47.049444   8.312222  \n7   46.011000   8.958000  \n8   47.431667   9.374722  \n9   47.374593   8.548889  \n10  46.519174   6.566653  \n11  47.376402   8.548025  "
                    },
                    "execution_count": 4,
                    "metadata": {},
                    "output_type": "execute_result"
                }
            ],
            "source": "# Rename columns\n\nfinal_df=df2.rename(columns={\"Institution\":\"Neighborhood\",\"Location\":\"Borough\"})\nfinal_df"
        },
        {
            "cell_type": "markdown",
            "metadata": {},
            "source": "Here we have our final dataframe of Swiss Universities and their locations."
        }
    ],
    "metadata": {
        "kernelspec": {
            "display_name": "Python 3.7",
            "language": "python",
            "name": "python3"
        },
        "language_info": {
            "codemirror_mode": {
                "name": "ipython",
                "version": 3
            },
            "file_extension": ".py",
            "mimetype": "text/x-python",
            "name": "python",
            "nbconvert_exporter": "python",
            "pygments_lexer": "ipython3",
            "version": "3.7.9"
        }
    },
    "nbformat": 4,
    "nbformat_minor": 1
}